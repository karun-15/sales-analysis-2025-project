{
 "cells": [
  {
   "cell_type": "code",
   "execution_count": 1,
   "id": "127d2b7a-9ba2-41b0-9f17-a7df9a1cc261",
   "metadata": {},
   "outputs": [
    {
     "name": "stdout",
     "output_type": "stream",
     "text": [
      "hello,Labmentrix!\n"
     ]
    }
   ],
   "source": [
    "print(\"hello,Labmentrix!\")"
   ]
  },
  {
   "cell_type": "code",
   "execution_count": 17,
   "id": "d00f2ddc-8a04-430d-a7a1-f7528da2ff51",
   "metadata": {},
   "outputs": [
    {
     "name": "stdout",
     "output_type": "stream",
     "text": [
      "      Product  Quantity Ordered  Price Each  Order Date\n",
      "0      Laptop               200        1200  2025-01-15\n",
      "1  Smartphone               500         800  2025-01-18\n",
      "2  Headphones               150         150  2025-01-22\n",
      "3  Smartwatch               300         250  2025-01-25\n",
      "4      Tablet               400         350  2025-02-10\n",
      "5      Camera               120         500  2025-02-12\n",
      "6     Printer               250         150  2025-02-15\n",
      "7       Mouse               700          30  2025-03-01\n",
      "8    Keyboard               450          40  2025-03-10\n",
      "9     Charger               600          20  2025-03-15\n"
     ]
    },
    {
     "data": {
      "text/html": [
       "<div>\n",
       "<style scoped>\n",
       "    .dataframe tbody tr th:only-of-type {\n",
       "        vertical-align: middle;\n",
       "    }\n",
       "\n",
       "    .dataframe tbody tr th {\n",
       "        vertical-align: top;\n",
       "    }\n",
       "\n",
       "    .dataframe thead th {\n",
       "        text-align: right;\n",
       "    }\n",
       "</style>\n",
       "<table border=\"1\" class=\"dataframe\">\n",
       "  <thead>\n",
       "    <tr style=\"text-align: right;\">\n",
       "      <th></th>\n",
       "      <th>Product</th>\n",
       "      <th>Quantity Ordered</th>\n",
       "      <th>Price Each</th>\n",
       "      <th>Order Date</th>\n",
       "    </tr>\n",
       "  </thead>\n",
       "  <tbody>\n",
       "    <tr>\n",
       "      <th>0</th>\n",
       "      <td>Laptop</td>\n",
       "      <td>200</td>\n",
       "      <td>1200</td>\n",
       "      <td>2025-01-15</td>\n",
       "    </tr>\n",
       "    <tr>\n",
       "      <th>1</th>\n",
       "      <td>Smartphone</td>\n",
       "      <td>500</td>\n",
       "      <td>800</td>\n",
       "      <td>2025-01-18</td>\n",
       "    </tr>\n",
       "    <tr>\n",
       "      <th>2</th>\n",
       "      <td>Headphones</td>\n",
       "      <td>150</td>\n",
       "      <td>150</td>\n",
       "      <td>2025-01-22</td>\n",
       "    </tr>\n",
       "    <tr>\n",
       "      <th>3</th>\n",
       "      <td>Smartwatch</td>\n",
       "      <td>300</td>\n",
       "      <td>250</td>\n",
       "      <td>2025-01-25</td>\n",
       "    </tr>\n",
       "    <tr>\n",
       "      <th>4</th>\n",
       "      <td>Tablet</td>\n",
       "      <td>400</td>\n",
       "      <td>350</td>\n",
       "      <td>2025-02-10</td>\n",
       "    </tr>\n",
       "  </tbody>\n",
       "</table>\n",
       "</div>"
      ],
      "text/plain": [
       "      Product  Quantity Ordered  Price Each  Order Date\n",
       "0      Laptop               200        1200  2025-01-15\n",
       "1  Smartphone               500         800  2025-01-18\n",
       "2  Headphones               150         150  2025-01-22\n",
       "3  Smartwatch               300         250  2025-01-25\n",
       "4      Tablet               400         350  2025-02-10"
      ]
     },
     "execution_count": 17,
     "metadata": {},
     "output_type": "execute_result"
    }
   ],
   "source": [
    "import pandas as pd\n",
    "\n",
    "df = pd.read_csv('C:/Users/Global/OneDrive/Desktop/python data/sales_2025.csv')  # Change the path here\n",
    "pd.set_option('display.max_rows', None)\n",
    "print(df)\n",
    "df.head()\n"
   ]
  },
  {
   "cell_type": "code",
   "execution_count": 16,
   "id": "86ae162f-d93e-4269-a489-a39b0db2c460",
   "metadata": {},
   "outputs": [
    {
     "name": "stdout",
     "output_type": "stream",
     "text": [
      "Product             0\n",
      "Quantity Ordered    0\n",
      "Price Each          0\n",
      "Order Date          0\n",
      "dtype: int64\n"
     ]
    },
    {
     "data": {
      "text/html": [
       "<div>\n",
       "<style scoped>\n",
       "    .dataframe tbody tr th:only-of-type {\n",
       "        vertical-align: middle;\n",
       "    }\n",
       "\n",
       "    .dataframe tbody tr th {\n",
       "        vertical-align: top;\n",
       "    }\n",
       "\n",
       "    .dataframe thead th {\n",
       "        text-align: right;\n",
       "    }\n",
       "</style>\n",
       "<table border=\"1\" class=\"dataframe\">\n",
       "  <thead>\n",
       "    <tr style=\"text-align: right;\">\n",
       "      <th></th>\n",
       "      <th>Product</th>\n",
       "      <th>Quantity Ordered</th>\n",
       "      <th>Price Each</th>\n",
       "      <th>Order Date</th>\n",
       "    </tr>\n",
       "  </thead>\n",
       "  <tbody>\n",
       "    <tr>\n",
       "      <th>0</th>\n",
       "      <td>Laptop</td>\n",
       "      <td>200</td>\n",
       "      <td>1200</td>\n",
       "      <td>2025-01-15</td>\n",
       "    </tr>\n",
       "    <tr>\n",
       "      <th>1</th>\n",
       "      <td>Smartphone</td>\n",
       "      <td>500</td>\n",
       "      <td>800</td>\n",
       "      <td>2025-01-18</td>\n",
       "    </tr>\n",
       "    <tr>\n",
       "      <th>2</th>\n",
       "      <td>Headphones</td>\n",
       "      <td>150</td>\n",
       "      <td>150</td>\n",
       "      <td>2025-01-22</td>\n",
       "    </tr>\n",
       "    <tr>\n",
       "      <th>3</th>\n",
       "      <td>Smartwatch</td>\n",
       "      <td>300</td>\n",
       "      <td>250</td>\n",
       "      <td>2025-01-25</td>\n",
       "    </tr>\n",
       "    <tr>\n",
       "      <th>4</th>\n",
       "      <td>Tablet</td>\n",
       "      <td>400</td>\n",
       "      <td>350</td>\n",
       "      <td>2025-02-10</td>\n",
       "    </tr>\n",
       "  </tbody>\n",
       "</table>\n",
       "</div>"
      ],
      "text/plain": [
       "      Product  Quantity Ordered  Price Each Order Date\n",
       "0      Laptop               200        1200 2025-01-15\n",
       "1  Smartphone               500         800 2025-01-18\n",
       "2  Headphones               150         150 2025-01-22\n",
       "3  Smartwatch               300         250 2025-01-25\n",
       "4      Tablet               400         350 2025-02-10"
      ]
     },
     "execution_count": 16,
     "metadata": {},
     "output_type": "execute_result"
    }
   ],
   "source": [
    "# Check missing values\n",
    "print(df.isnull().sum())\n",
    "\n",
    "# Drop missing rows\n",
    "df = df.dropna()\n",
    "\n",
    "# Convert 'Order Date' to datetime\n",
    "df['Order Date'] = pd.to_datetime(df['Order Date'])\n",
    "df.head()\n"
   ]
  },
  {
   "cell_type": "code",
   "execution_count": 12,
   "id": "6763f230-27bb-4267-b7e2-67873fb0d09d",
   "metadata": {},
   "outputs": [
    {
     "name": "stdout",
     "output_type": "stream",
     "text": [
      "Total Sales: $1,026,000.00\n",
      "Product\n",
      "Camera         60000\n",
      "Charger        12000\n",
      "Headphones     22500\n",
      "Keyboard       18000\n",
      "Laptop        240000\n",
      "Mouse          21000\n",
      "Printer        37500\n",
      "Smartphone    400000\n",
      "Smartwatch     75000\n",
      "Tablet        140000\n",
      "Name: Sales, dtype: int64\n"
     ]
    }
   ],
   "source": [
    "# Find total sales\n",
    "df['Sales'] = df['Quantity Ordered'] * df['Price Each']\n",
    "total_sales = df['Sales'].sum()\n",
    "print(f\"Total Sales: ${total_sales:,.2f}\")\n",
    "\n",
    "# Find total sales per product\n",
    "product_sales = df.groupby('Product')['Sales'].sum()\n",
    "print(product_sales)\n"
   ]
  },
  {
   "cell_type": "code",
   "execution_count": 7,
   "id": "84f43464-3ca2-4de8-ba4c-64605433e5a7",
   "metadata": {},
   "outputs": [
    {
     "name": "stderr",
     "output_type": "stream",
     "text": [
      "Matplotlib is building the font cache; this may take a moment.\n"
     ]
    },
    {
     "data": {
      "image/png": "[encoded data removed]",
      "text/plain": [
       "<Figure size 1000x600 with 1 Axes>"
      ]
     },
     "metadata": {},
     "output_type": "display_data"
    }
   ],
   "source": [
    "import matplotlib.pyplot as plt\n",
    "\n",
    "# Sales per product\n",
    "product_sales.sort_values().plot(kind='barh', figsize=(10,6))\n",
    "plt.xlabel('Total Sales ($)')\n",
    "plt.title('Sales by Product')\n",
    "plt.show()\n"
   ]
  },
  {
   "cell_type": "markdown",
   "id": "59e2cdbf-5c1a-48c9-b5ce-7f20b1ff11e8",
   "metadata": {},
   "source": [
    "#project summary\n",
    "- best sales by product was    = \"smart phone\"\n",
    "- last sales by product was    = \"charger\"\n",
    "- total sales done was         = $1026000\n",
    "- more no of product sales was = \"mouse\"\n",
    "- least no of product sales was= \"camera\""
   ]
  },
  {
   "cell_type": "code",
   "execution_count": null,
   "id": "7435f750-5ae2-41f5-b5e5-2c5b13879e5f",
   "metadata": {},
   "outputs": [],
   "source": []
  }
 ],
 "metadata": {
  "kernelspec": {
   "display_name": "Python 3 (ipykernel)",
   "language": "python",
   "name": "python3"
  },
  "language_info": {
   "codemirror_mode": {
    "name": "ipython",
    "version": 3
   },
   "file_extension": ".py",
   "mimetype": "text/x-python",
   "name": "python",
   "nbconvert_exporter": "python",
   "pygments_lexer": "ipython3",
   "version": "3.13.2"
  }
 },
 "nbformat": 4,
 "nbformat_minor": 5
}
